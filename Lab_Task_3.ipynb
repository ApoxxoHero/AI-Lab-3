{
  "nbformat": 4,
  "nbformat_minor": 0,
  "metadata": {
    "colab": {
      "name": "Lab Task-3.ipynb",
      "provenance": [],
      "collapsed_sections": [],
      "include_colab_link": true
    },
    "kernelspec": {
      "name": "python3",
      "display_name": "Python 3"
    }
  },
  "cells": [
    {
      "cell_type": "markdown",
      "metadata": {
        "id": "view-in-github",
        "colab_type": "text"
      },
      "source": [
        "<a href=\"https://colab.research.google.com/github/ApoxxoHero/AI-Lab-3/blob/main/Lab_Task_3.ipynb\" target=\"_parent\"><img src=\"https://colab.research.google.com/assets/colab-badge.svg\" alt=\"Open In Colab\"/></a>"
      ]
    },
    {
      "cell_type": "code",
      "metadata": {
        "colab": {
          "base_uri": "https://localhost:8080/"
        },
        "id": "haIIKQVtenOK",
        "outputId": "e3be9ac8-a747-4e04-9942-4aaff439e0de"
      },
      "source": [
        "data = []\n",
        "choice = 'random'\n",
        "\n",
        "def line():\n",
        "    print('...............')\n",
        "\n",
        "def show_menu():\n",
        "    line()\n",
        "    print('Course Registration Panel')\n",
        "    line()\n",
        "    print('1. Register your Course')\n",
        "    print('2. Unenroll from a Course')\n",
        "    print('3. Course details/list')\n",
        "    print('4. Done')\n",
        "    line()\n",
        "    choice = input('Enter your Choice: ')\n",
        "    return choice\n",
        "\n",
        "while choice != '4':\n",
        "    choice = show_menu()\n",
        "    if choice == '1':\n",
        "        course = input('Enter Course Code:  ')\n",
        "        data.append(course)\n",
        "        print('Course', course, 'added')\n",
        "    elif choice == '2':\n",
        "        course = input('Enter the Course Code to Unenroll: ')\n",
        "        if course in data:\n",
        "            data.remove(course)\n",
        "            print('Unenrolled')\n",
        "        else:\n",
        "            print('Unavaiable Course', course)\n",
        "    elif choice == '3':\n",
        "        print('List of Courses: ')\n",
        "        for course in data:\n",
        "            print(course)\n",
        "    elif choice == '4':\n",
        "        print('Registration Complete!')\n",
        "    else:\n",
        "        print('Plz Try Again.')"
      ],
      "execution_count": null,
      "outputs": [
        {
          "output_type": "stream",
          "text": [
            "...............\n",
            "Course Registration Panel\n",
            "...............\n",
            "1. Register your Course\n",
            "2. Unenroll from a Course\n",
            "3. Course details/list\n",
            "4. Done\n",
            "...............\n",
            "Enter your Choice: 1\n",
            "Enter Course Code:  cse321\n",
            "Course cse321 added\n",
            "...............\n",
            "Course Registration Panel\n",
            "...............\n",
            "1. Register your Course\n",
            "2. Unenroll from a Course\n",
            "3. Course details/list\n",
            "4. Done\n",
            "...............\n",
            "Enter your Choice: 3\n",
            "List of Courses: \n",
            "cse321\n",
            "...............\n",
            "Course Registration Panel\n",
            "...............\n",
            "1. Register your Course\n",
            "2. Unenroll from a Course\n",
            "3. Course details/list\n",
            "4. Done\n",
            "...............\n",
            "Enter your Choice: 2\n",
            "Enter the Course Code to Unenroll: cse321\n",
            "Unenrolled\n",
            "...............\n",
            "Course Registration Panel\n",
            "...............\n",
            "1. Register your Course\n",
            "2. Unenroll from a Course\n",
            "3. Course details/list\n",
            "4. Done\n",
            "...............\n",
            "Enter your Choice: 4\n",
            "Registration Complete!\n"
          ],
          "name": "stdout"
        }
      ]
    }
  ]
}